{
  "nbformat": 4,
  "nbformat_minor": 0,
  "metadata": {
    "colab": {
      "provenance": [],
      "include_colab_link": true
    },
    "kernelspec": {
      "name": "python3",
      "display_name": "Python 3"
    },
    "language_info": {
      "name": "python"
    }
  },
  "cells": [
    {
      "cell_type": "markdown",
      "metadata": {
        "id": "view-in-github",
        "colab_type": "text"
      },
      "source": [
        "<a href=\"https://colab.research.google.com/github/Nurul-Meyti/Nurul-Meyti-221011089/blob/main/untitled0.ipynb\" target=\"_parent\"><img src=\"https://colab.research.google.com/assets/colab-badge.svg\" alt=\"Open In Colab\"/></a>"
      ]
    },
    {
      "cell_type": "code",
      "execution_count": null,
      "metadata": {
        "colab": {
          "base_uri": "https://localhost:8080/"
        },
        "id": "b2YsX2wVFQ13",
        "outputId": "d6a74a54-2af3-4046-c553-676dcde8e976"
      },
      "outputs": [
        {
          "output_type": "stream",
          "name": "stdout",
          "text": [
            "(1600, 900, 3)\n",
            "[[[171 158 141]\n",
            "  [172 159 142]\n",
            "  [177 164 147]\n",
            "  ...\n",
            "  [162 162 152]\n",
            "  [170 170 160]\n",
            "  [175 175 165]]\n",
            "\n",
            " [[183 170 153]\n",
            "  [184 171 154]\n",
            "  [191 178 161]\n",
            "  ...\n",
            "  [150 150 140]\n",
            "  [157 157 147]\n",
            "  [163 163 153]]\n",
            "\n",
            " [[190 177 158]\n",
            "  [197 184 165]\n",
            "  [209 196 177]\n",
            "  ...\n",
            "  [140 140 130]\n",
            "  [146 146 136]\n",
            "  [150 150 140]]\n",
            "\n",
            " ...\n",
            "\n",
            " [[116 117 103]\n",
            "  [125 126 112]\n",
            "  [119 119 107]\n",
            "  ...\n",
            "  [ 24  29  33]\n",
            "  [ 24  29  33]\n",
            "  [ 24  29  33]]\n",
            "\n",
            " [[118 119 105]\n",
            "  [127 128 114]\n",
            "  [120 120 108]\n",
            "  ...\n",
            "  [ 24  29  33]\n",
            "  [ 24  29  33]\n",
            "  [ 24  29  33]]\n",
            "\n",
            " [[108 109  95]\n",
            "  [116 117 103]\n",
            "  [111 111  99]\n",
            "  ...\n",
            "  [ 24  29  33]\n",
            "  [ 24  29  33]\n",
            "  [ 24  29  33]]]\n"
          ]
        }
      ],
      "source": [
        "import cv2\n",
        "import numpy as np\n",
        "import matplotlib.pyplot as plt\n",
        "%matplotlib inline\n",
        "\n",
        "img_path = 'nurul meyti.png'\n",
        "img = cv2.imread(img_path)\n",
        "print(img.shape)\n",
        "\n",
        "fix_img = cv2.cvtColor(img, cv2.COLOR_BGR2RGB)\n",
        "plt.imshow(fix_img)\n",
        "\n",
        "R, G, B, = fix_img[:,:,0], fix_img[:,:,1], fix_img[:,:,2]\n",
        "print(np.array(fix_img))"
      ]
    },
    {
      "cell_type": "code",
      "source": [],
      "metadata": {
        "id": "vV6E26IZx9xD"
      },
      "execution_count": null,
      "outputs": []
    },
    {
      "cell_type": "code",
      "source": [
        "fix_img[:] = np.max(fix_img, axis = -1, keepdims =1)/2 + np.min(fix_img, axis = -1, keepdims =1)/2\n",
        "\n",
        "print(np.array,fix_img[:])\n",
        "plt.axis('off') #menghilangkan garis\n",
        "plt.imshow(fix_img[:], cmap='gray')\n",
        "plt.savefig('metode lightness.jpg', bbox_inches = 'tight')"
      ],
      "metadata": {
        "colab": {
          "base_uri": "https://localhost:8080/"
        },
        "id": "Dod52iYTMUW0",
        "outputId": "1ea5c1be-d7a7-4fda-8697-a21a55a1d83c"
      },
      "execution_count": null,
      "outputs": [
        {
          "output_type": "stream",
          "name": "stdout",
          "text": [
            "<built-in function array> [[[156 156 156]\n",
            "  [157 157 157]\n",
            "  [162 162 162]\n",
            "  ...\n",
            "  [157 157 157]\n",
            "  [165 165 165]\n",
            "  [170 170 170]]\n",
            "\n",
            " [[168 168 168]\n",
            "  [169 169 169]\n",
            "  [176 176 176]\n",
            "  ...\n",
            "  [145 145 145]\n",
            "  [152 152 152]\n",
            "  [158 158 158]]\n",
            "\n",
            " [[174 174 174]\n",
            "  [181 181 181]\n",
            "  [193 193 193]\n",
            "  ...\n",
            "  [135 135 135]\n",
            "  [141 141 141]\n",
            "  [145 145 145]]\n",
            "\n",
            " ...\n",
            "\n",
            " [[110 110 110]\n",
            "  [119 119 119]\n",
            "  [113 113 113]\n",
            "  ...\n",
            "  [ 28  28  28]\n",
            "  [ 28  28  28]\n",
            "  [ 28  28  28]]\n",
            "\n",
            " [[112 112 112]\n",
            "  [121 121 121]\n",
            "  [114 114 114]\n",
            "  ...\n",
            "  [ 28  28  28]\n",
            "  [ 28  28  28]\n",
            "  [ 28  28  28]]\n",
            "\n",
            " [[102 102 102]\n",
            "  [110 110 110]\n",
            "  [105 105 105]\n",
            "  ...\n",
            "  [ 28  28  28]\n",
            "  [ 28  28  28]\n",
            "  [ 28  28  28]]]\n"
          ]
        }
      ]
    },
    {
      "cell_type": "code",
      "source": [
        "gray_img = np.mean(fix_img, axis = 2)\n",
        "print(np.array(gray_img))\n",
        "\n",
        "plt.axis('off')\n",
        "plt.imshow(gray_img, cmap = 'gray')\n",
        "plt.savefig('Metode Average.jpg', bbox_inches = 'tight')"
      ],
      "metadata": {
        "colab": {
          "base_uri": "https://localhost:8080/"
        },
        "id": "ZHKyDaL8QU86",
        "outputId": "868ac741-014c-4208-e028-de917671a8ee"
      },
      "execution_count": null,
      "outputs": [
        {
          "output_type": "stream",
          "name": "stdout",
          "text": [
            "[[156. 157. 162. ... 157. 165. 170.]\n",
            " [168. 169. 176. ... 145. 152. 158.]\n",
            " [174. 181. 193. ... 135. 141. 145.]\n",
            " ...\n",
            " [110. 119. 113. ...  28.  28.  28.]\n",
            " [112. 121. 114. ...  28.  28.  28.]\n",
            " [102. 110. 105. ...  28.  28.  28.]]\n"
          ]
        }
      ]
    },
    {
      "cell_type": "code",
      "source": [
        "wavr_img = (0.2126*R) + (0.7152*G) + (0.0722*B)\n",
        "print(wavr_img)\n",
        "\n",
        "plt.axis('off')\n",
        "plt.imshow(lumi_img, cmap = 'gray')\n",
        "plt.savefig('Metode Average.jpg', bbox_inches = 'tight')"
      ],
      "metadata": {
        "colab": {
          "base_uri": "https://localhost:8080/"
        },
        "id": "OVW48PZPSpkd",
        "outputId": "b8b5d712-06d8-4bde-8310-1c76b520b169"
      },
      "execution_count": null,
      "outputs": [
        {
          "output_type": "stream",
          "name": "stdout",
          "text": [
            "[[156. 157. 162. ... 157. 165. 170.]\n",
            " [168. 169. 176. ... 145. 152. 158.]\n",
            " [174. 181. 193. ... 135. 141. 145.]\n",
            " ...\n",
            " [110. 119. 113. ...  28.  28.  28.]\n",
            " [112. 121. 114. ...  28.  28.  28.]\n",
            " [102. 110. 105. ...  28.  28.  28.]]\n"
          ]
        }
      ]
    }
  ]
}